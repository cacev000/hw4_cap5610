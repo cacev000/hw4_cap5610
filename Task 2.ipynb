{
 "cells": [
  {
   "cell_type": "code",
   "execution_count": 17,
   "metadata": {},
   "outputs": [
    {
     "data": {
      "image/png": "[encoded data removed]",
      "text/plain": [
       "<Figure size 432x288 with 1 Axes>"
      ]
     },
     "metadata": {
      "needs_background": "light"
     },
     "output_type": "display_data"
    }
   ],
   "source": [
    "import numpy as np\n",
    "import pandas as pd\n",
    "import matplotlib.pyplot as plt\n",
    "%matplotlib inline\n",
    "\n",
    "# [x1, x2] -> [x1, x1x2] mapping [x1, x2] to [x1, x1*x2]\n",
    "# [-1,-1]  -> [-1, 1]  (neg)\n",
    "# [-1,1]   -> [-1, -1] (pos)\n",
    "# [1,-1]   -> [1, -1]  (pos)\n",
    "# [1,1]    -> [1, 1]   (neg)\n",
    "pos = np.array([[-1,-1], [1,-1]])\n",
    "neg = np.array([[-1,1], [1,1]])\n",
    "\n",
    "plt.scatter(pos[:,0], pos[:,1], color=\"green\", label=\"Pos\")\n",
    "#plt.show()\n",
    "plt.scatter(neg[:,0], neg[:,1], color=\"red\", label=\"Neg\")\n",
    "#plt.show()\n",
    "plt.xlabel(\"x1\")\n",
    "plt.ylabel(\"x1x2\")\n",
    "plt.title(\"x1 vs x1x2\")\n",
    "plt.hlines(0, xmin=-1, xmax=1, linestyles=\"dashed\", color=\"purple\")\n",
    "plt.show()"
   ]
  },
  {
   "cell_type": "code",
   "execution_count": null,
   "metadata": {},
   "outputs": [],
   "source": []
  },
  {
   "cell_type": "code",
   "execution_count": null,
   "metadata": {},
   "outputs": [],
   "source": []
  },
  {
   "cell_type": "code",
   "execution_count": null,
   "metadata": {},
   "outputs": [],
   "source": []
  }
 ],
 "metadata": {
  "kernelspec": {
   "display_name": "Python 3",
   "language": "python",
   "name": "python3"
  },
  "language_info": {
   "codemirror_mode": {
    "name": "ipython",
    "version": 3
   },
   "file_extension": ".py",
   "mimetype": "text/x-python",
   "name": "python",
   "nbconvert_exporter": "python",
   "pygments_lexer": "ipython3",
   "version": "3.8.3"
  }
 },
 "nbformat": 4,
 "nbformat_minor": 4
}
